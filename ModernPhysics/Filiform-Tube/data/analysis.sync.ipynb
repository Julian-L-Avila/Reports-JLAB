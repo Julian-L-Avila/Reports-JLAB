{
 "cells": [
  {
   "cell_type": "code",
   "execution_count": 25,
   "id": "79ebd791",
   "metadata": {},
   "outputs": [],
   "source": [
    "import pandas as pd\n",
    "import numpy as np\n",
    "import matplotlib.pyplot as plt\n",
    "\n",
    "data = \"./filiform-data.csv\"\n",
    "\n",
    "# Constants\n",
    "n = 130\n",
    "R = 0.2\n",
    "especific_charge = 1.76\n",
    "mu = np.pi * 4e-7\n",
    "\n",
    "dU = 0.1\n",
    "dI = 0.02\n",
    "dr = 0.01e-2"
   ]
  },
  {
   "cell_type": "code",
   "execution_count": 26,
   "id": "8c331cc1",
   "metadata": {},
   "outputs": [],
   "source": [
    "# Load data\n",
    "df = pd.read_csv(data, sep='\\t')\n",
    "df.info()"
   ]
  },
  {
   "cell_type": "code",
   "execution_count": 27,
   "id": "2c11145e",
   "metadata": {},
   "outputs": [
    {
     "name": "stdout",
     "output_type": "stream",
     "text": [
      "<class 'pandas.core.frame.DataFrame'>\n",
      "RangeIndex: 26 entries, 0 to 25\n",
      "Data columns (total 9 columns):\n",
      " #   Column      Non-Null Count  Dtype  \n",
      "---  ------      --------------  -----  \n",
      " 0   U (V)       22 non-null     float64\n",
      " 1   I (A)       22 non-null     float64\n",
      " 2   r (cm)      22 non-null     float64\n",
      " 3   B           22 non-null     float64\n",
      " 4   e/m         24 non-null     float64\n",
      " 5   mu0         8 non-null      object \n",
      " 6   Unnamed: 6  0 non-null      float64\n",
      " 7   Unnamed: 7  0 non-null      float64\n",
      " 8   Unnamed: 8  23 non-null     float64\n",
      "dtypes: float64(8), object(1)\n",
      "memory usage: 2.0+ KB\n"
     ]
    }
   ],
   "source": [
    "# Magnetic field calculation\n",
    "def Magnetic_Field(I, n, R):\n",
    "    return 8 * n * mu * I / (R * np.power(5, 3.0 / 2.0))\n",
    "\n",
    "def Uncertainty_Magnetic_Field(dI, n, R):\n",
    "    return 8 * n * mu * dI / (R * np.power(5, 3.0 / 2.0))\n",
    "\n",
    "dB = Uncertainty_Magnetic_Field(dI, n, R)\n",
    "print(f\"Uncertainty in Magnetic Field: {dB}\")"
   ]
  },
  {
   "cell_type": "code",
   "execution_count": 34,
   "id": "ee22e1e1",
   "metadata": {},
   "outputs": [
    {
     "data": {
      "text/plain": [
       "np.float64(4.12032024325319)"
      ]
     },
     "execution_count": 34,
     "metadata": {},
     "output_type": "execute_result"
    }
   ],
   "source": [
    "# Function for uncertainty in specific charge\n",
    "def Uncertainty_Specific(U, r, B, dU, dr, dB):\n",
    "    return np.sqrt((2.0 * dU / (r * B) ** 2) ** 2 + ((4.0 * U / (r * B) ** 3) ** 2) * ((B * dr) ** 2 + dB ** 2))\n",
    "\n",
    "# Apply the function row by row\n",
    "df['error'] = df.apply(\n",
    "    lambda row: Uncertainty_Specific(row['U (V)'], row['r (cm)'] * 1e-2, row['B'], dU, dr, dB),\n",
    "    axis=1\n",
    ")\n",
    "\n",
    "df['error'].mean() * 1e-10"
   ]
  }
 ],
 "metadata": {
  "kernelspec": {
   "display_name": "Python 3 (ipykernel)",
   "language": "python",
   "name": "python3"
  },
  "language_info": {
   "codemirror_mode": {
    "name": "ipython",
    "version": 3
   },
   "file_extension": ".py",
   "mimetype": "text/x-python",
   "name": "python",
   "nbconvert_exporter": "python",
   "pygments_lexer": "ipython3",
   "version": "3.11.2"
  }
 },
 "nbformat": 4,
 "nbformat_minor": 5
}
